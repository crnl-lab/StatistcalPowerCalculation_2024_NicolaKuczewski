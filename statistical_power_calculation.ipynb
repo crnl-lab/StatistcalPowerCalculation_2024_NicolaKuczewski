{
 "cells": [
  {
   "cell_type": "markdown",
   "id": "1605192c-cf10-4a69-b9e7-204c8502a6e1",
   "metadata": {},
   "source": [
    "# Statistical Power Calculation\n",
    "\n",
    "This notebook is to demonstrate ...."
   ]
  },
  {
   "cell_type": "code",
   "execution_count": 5,
   "id": "baae59df-cd6a-4cab-a1e1-4de0f668abc5",
   "metadata": {},
   "outputs": [],
   "source": [
    "import numpy as np\n",
    "import matplotlib.pyplot as plt\n",
    "\n",
    "import ipywidgets as W\n",
    "\n",
    "from statitiscal_power_calculation import run_simulation"
   ]
  },
  {
   "cell_type": "code",
   "execution_count": 28,
   "id": "00e76eb5",
   "metadata": {},
   "outputs": [],
   "source": [
    "\n"
   ]
  },
  {
   "cell_type": "code",
   "execution_count": 31,
   "id": "0873ae3a",
   "metadata": {},
   "outputs": [
    {
     "data": {
      "application/vnd.jupyter.widget-view+json": {
       "model_id": "9c7cad991aaa4332ad51c66589432f03",
       "version_major": 2,
       "version_minor": 0
      },
      "text/plain": [
       "VBox(children=(IntText(value=8, description='trial repetitions'), FloatText(value=50.0, description='probabili…"
      ]
     },
     "metadata": {},
     "output_type": "display_data"
    },
    {
     "name": "stdout",
     "output_type": "stream",
     "text": [
      "8\n",
      "Groupe 1 probability of success: [0.38047548 0.63983223 0.59269028 0.587002  ]\n",
      "Average probability of groupe 1: 0.55\n",
      "STD of groupe 1: 0.1\n",
      "\n"
     ]
    },
    {
     "name": "stderr",
     "output_type": "stream",
     "text": [
      "/home/samuel/.virtualenvs/py3.11/lib/python3.11/site-packages/scipy/stats/_axis_nan_policy.py:531: RuntimeWarning: Precision loss occurred in moment calculation due to catastrophic cancellation. This occurs when the data are nearly identical. Results may be unreliable.\n",
      "  res = hypotest_fun_out(*samples, **kwds)\n"
     ]
    },
    {
     "name": "stdout",
     "output_type": "stream",
     "text": [
      "Power: 56.38\n",
      "Power: 56.36\n",
      "Power: 55.7\n",
      "Power: 56.44\n",
      "Power: 55.04\n",
      "\n",
      "Power mean: 55.984\n",
      "Power 95 CI: ([55.229256195845785, 56.73874380415422], 0.7547438041542165)\n",
      "8\n",
      "Groupe 1 probability of success: [0.68087003 0.44932617 0.45653766 0.61326615]\n",
      "Average probability of groupe 1: 0.55\n",
      "STD of groupe 1: 0.10000000000000005\n",
      "\n"
     ]
    }
   ],
   "source": [
    "# make widgets\n",
    "\n",
    "trials = W.IntText(value=8, description=\"trial repetitions\")\n",
    "success_Gp1 = W.FloatText(value=50., description=\"probability of succes of trained group\")\n",
    "std1 = W.FloatText(value=10., description=\"standard deviation of succes  between subjects in  trained group\")\n",
    "success_Gp2 = W.FloatText(value=30., description=\"average probability of succes of control group  or chancelevel when only 1 experimental group\")\n",
    "\n",
    "def on_button_run_clicked(change=None):\n",
    "\n",
    "    print(trials.value)\n",
    "    run_simulation(\n",
    "        groups=1,\n",
    "        # tests=Ttest1, # Ttest1 (compared to the chache level),Ttest2(compare 2 groups),proportion1,proportion2,Wilcoxon1    nWhitney    ,Welch\" ,'Permutation','MannWhitney'\n",
    "        trials=trials.value,\n",
    "        success_Gp1=success_Gp1.value,\n",
    "        std1=std1.value,\n",
    "        success_Gp2=success_Gp2.value,\n",
    "        std2=25,  # standard deviation of succes  between subjects in control group\n",
    "        sample_size1=4,\n",
    "        sample_size2=6,\n",
    "        alpha_risk=0.05,    \n",
    "        iterations=5000,\n",
    "        repetitions=5, # number or simulations repetition for calculate the average power and 95%CI\n",
    "        tolerance=0.05, #tolerance error in generated sample mean and std\n",
    "    )\n",
    "\n",
    "\n",
    "button = W.Button(description=\"run simulation\")\n",
    "button.on_click(on_button_run_clicked)\n",
    "\n",
    "hbox = W.VBox(children=[trials, success_Gp1, std1, success_Gp2,\n",
    "                         button])\n",
    "display(hbox)\n"
   ]
  },
  {
   "cell_type": "code",
   "execution_count": null,
   "id": "68884fed-d82a-472d-9656-8d171c06c6ab",
   "metadata": {},
   "outputs": [],
   "source": []
  }
 ],
 "metadata": {
  "kernelspec": {
   "display_name": "Python 3 (ipykernel)",
   "language": "python",
   "name": "python3"
  },
  "language_info": {
   "codemirror_mode": {
    "name": "ipython",
    "version": 3
   },
   "file_extension": ".py",
   "mimetype": "text/x-python",
   "name": "python",
   "nbconvert_exporter": "python",
   "pygments_lexer": "ipython3",
   "version": "3.11.0rc1"
  }
 },
 "nbformat": 4,
 "nbformat_minor": 5
}

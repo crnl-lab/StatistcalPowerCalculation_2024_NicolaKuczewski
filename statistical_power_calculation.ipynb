{
 "cells": [
  {
   "cell_type": "markdown",
   "id": "1605192c-cf10-4a69-b9e7-204c8502a6e1",
   "metadata": {},
   "source": [
    "# Statistical Power Calculation\n",
    "\n",
    "This notebook is to demonstrate ...."
   ]
  },
  {
   "cell_type": "code",
   "execution_count": 5,
   "id": "baae59df-cd6a-4cab-a1e1-4de0f668abc5",
   "metadata": {},
   "outputs": [],
   "source": [
    "import numpy as np\n",
    "import matplotlib.pyplot as plt\n",
    "\n",
    "import ipywidgets as W\n",
    "\n",
    "from statitiscal_power_calculation import run_simulation"
   ]
  },
  {
   "cell_type": "code",
   "execution_count": 28,
   "id": "00e76eb5",
   "metadata": {},
   "outputs": [],
   "source": [
    "\n"
   ]
  },
  {
   "cell_type": "code",
   "execution_count": 35,
   "id": "0873ae3a",
   "metadata": {},
   "outputs": [
    {
     "data": {
      "application/vnd.jupyter.widget-view+json": {
       "model_id": "fac102ec8b9a4c42866499ed99c5f575",
       "version_major": 2,
       "version_minor": 0
      },
      "text/plain": [
       "VBox(children=(IntText(value=8, description='trial repetitions'), FloatText(value=50.0, description='probabili…"
      ]
     },
     "metadata": {},
     "output_type": "display_data"
    },
    {
     "name": "stdout",
     "output_type": "stream",
     "text": [
      "8\n",
      "Groupe 1 probability of success: [0.37854328 0.44265039 0.64405404 0.53475229]\n",
      "Average probability of groupe 1: 0.5\n",
      "STD of groupe 1: 0.10000000000000002\n",
      "\n"
     ]
    },
    {
     "name": "stderr",
     "output_type": "stream",
     "text": [
      "/home/samuel/.virtualenvs/py3.11/lib/python3.11/site-packages/scipy/stats/_axis_nan_policy.py:531: RuntimeWarning: Precision loss occurred in moment calculation due to catastrophic cancellation. This occurs when the data are nearly identical. Results may be unreliable.\n",
      "  res = hypotest_fun_out(*samples, **kwds)\n"
     ]
    },
    {
     "name": "stdout",
     "output_type": "stream",
     "text": [
      "Power: 39.239999999999995\n",
      "Power: 40.62\n",
      "Power: 40.32\n",
      "Power: 39.92\n",
      "Power: 40.7\n",
      "\n",
      "Power mean: 40.15999999999999\n",
      "Power 95 CI: ([39.41686643103358, 40.903133568966396], 0.7431335689664067)\n"
     ]
    }
   ],
   "source": [
    "# make widgets\n",
    "\n",
    "trials = W.IntText(value=8, description=\"trial repetitions\")\n",
    "success_Gp1 = W.FloatText(value=50., description=\"probability of succes of trained group\")\n",
    "std1 = W.FloatText(value=10., description=\"standard deviation of succes  between subjects in  trained group\")\n",
    "success_Gp2 = W.FloatText(value=30., description=\"average probability of succes of control group  or chancelevel when only 1 experimental group\")\n",
    "std2 = W.FloatText(value=25., description=\"standard deviation of succes  between subjects in control group\")\n",
    "sample_size1 = W.IntText(value=4, description=\"sample size 1\")\n",
    "sample_size2 = W.IntText(value=6, description=\"sample size 2\")\n",
    "alpha_risk = W.FloatText(value=0.05, description=\"Alpha risk\")\n",
    "iterations = W.IntText(value=5000, description=\"Number of iteration\")\n",
    "repetitions = W.IntText(value=5, description=\"number or simulations repetition for calculate the average power and 95%CI\")\n",
    "tolerance = W.FloatText(value=0.05, description=\"tolerance error in generated sample mean and std\")\n",
    "\n",
    "def on_button_run_clicked(change=None):\n",
    "\n",
    "    print(trials.value)\n",
    "    run_simulation(\n",
    "        groups=1,\n",
    "        # tests=Ttest1, # Ttest1 (compared to the chache level),Ttest2(compare 2 groups),proportion1,proportion2,Wilcoxon1    nWhitney    ,Welch\" ,'Permutation','MannWhitney'\n",
    "        trials=trials.value,\n",
    "        success_Gp1=success_Gp1.value,\n",
    "        std1=std1.value,\n",
    "        success_Gp2=success_Gp2.value,\n",
    "        std2=std2.value,\n",
    "        sample_size1=sample_size1.value,\n",
    "        sample_size2=sample_size2.value,\n",
    "        alpha_risk=alpha_risk.value,\n",
    "        iterations=iterations.value,\n",
    "        repetitions=repetitions.value,\n",
    "        tolerance=tolerance.value,\n",
    "    )\n",
    "\n",
    "\n",
    "button = W.Button(description=\"run simulation\")\n",
    "button.on_click(on_button_run_clicked)\n",
    "\n",
    "hbox = W.VBox(children=[trials, success_Gp1, std1, success_Gp2,std2,sample_size1, sample_size2, alpha_risk,\n",
    "                         iterations,repetitions,tolerance, button])\n",
    "display(hbox)\n"
   ]
  },
  {
   "cell_type": "code",
   "execution_count": null,
   "id": "68884fed-d82a-472d-9656-8d171c06c6ab",
   "metadata": {},
   "outputs": [],
   "source": []
  }
 ],
 "metadata": {
  "kernelspec": {
   "display_name": "Python 3 (ipykernel)",
   "language": "python",
   "name": "python3"
  },
  "language_info": {
   "codemirror_mode": {
    "name": "ipython",
    "version": 3
   },
   "file_extension": ".py",
   "mimetype": "text/x-python",
   "name": "python",
   "nbconvert_exporter": "python",
   "pygments_lexer": "ipython3",
   "version": "3.11.0rc1"
  }
 },
 "nbformat": 4,
 "nbformat_minor": 5
}

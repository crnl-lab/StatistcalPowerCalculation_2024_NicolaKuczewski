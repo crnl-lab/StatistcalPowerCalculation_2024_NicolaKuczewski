{
 "cells": [
  {
   "cell_type": "markdown",
   "id": "242f6e27-ce6d-44e2-8b51-499b5ca8cc59",
   "metadata": {
    "tags": []
   },
   "source": [
    "### **SuccessRatePower**: statistical power calculator for behavioral neuroscience\n",
    "\n",
    "\n",
    "<span style=\"font-size: 16px\">This script uses a Monte Carlo simulation to calculate the statistical power of behavioral studies that evaluate success rates. It determines how the modification of different parameters of the illustrated behavioral and analytical protocol affects statistical power.\n",
    "\n",
    "<span style=\"font-size: 20px; font-weight: bold;\">**Select  'Select 'Run All Cells' from the Run menu to launch the simulator**\n",
    "    \n",
    "For any questions or suggestions, please contact nicola.kuczewski@univ-lyon1.fr\n",
    "\n",
    "![Protocol](Figure.jpg)\n",
    " \n",
    "### **Parameters:**\n",
    "\n",
    "**Mode**:  \"One group\" is compared to a chance level, or \"two groups\" are compared to one another.\n",
    "    \n",
    "**Test method**: The test that will be used for statistical analysis\n",
    "    \n",
    "**Test_direction**: Unilateral or Bilateral\n",
    "\n",
    "**Number of trials**: Number of trials performed by each subject\n",
    "   \n",
    "**Chance level**: Probability of subjects achieving success by chance (when comparing one group to the chance level)\n",
    "    \n",
    "**Success rate Gr1**: The expected average success rate of Group 1 (%)\n",
    "\n",
    "**Variability Gr1**: Variability in performance levels among subjects in Group 1 (%)\n",
    "\n",
    "**Sample size Gr1**: Sample size of roup 1\n",
    "\n",
    "**Success rate Gr2**: The expected average success rate of Group 2(%)\n",
    "\n",
    "**Variability Gr2**:  Variability in performance levels among subjects in Group 2 (%)\n",
    "\n",
    "**Sample size Gr2**: Sample size of group 2\n",
    "    \n",
    "**Alpha risk**: Alpha risk\n",
    "\n",
    "**Number of iterations**: The number of iterations in the Monte Carlo simulation; a higher number provides greater precision in the power estimation\n",
    "\n",
    "**Repetitions**: Number of Monte Carlo simulation repetitions: determines the average power estimation and 95% confidence interval.\n",
    "\n",
    "\n",
    "\n",
    "\n",
    "\n",
    "\n"
   ]
  },
  {
   "cell_type": "code",
   "execution_count": 2,
   "id": "108624e4-a269-4602-8986-8ad063541344",
   "metadata": {},
   "outputs": [
    {
     "data": {
      "application/vnd.jupyter.widget-view+json": {
       "model_id": "35cf6bd9451c4a3685cec289317d269e",
       "version_major": 2,
       "version_minor": 0
      },
      "text/plain": [
       "VBox(children=(Dropdown(description='Mode', layout=Layout(width='400px'), options=('one-group', 'two-group'), …"
      ]
     },
     "metadata": {},
     "output_type": "display_data"
    }
   ],
   "source": [
    "from widgets import show_widget\n",
    "show_widget()\n"
   ]
  },
  {
   "cell_type": "markdown",
   "id": "dd7e6916-e288-468a-b989-b162ccbbfcba",
   "metadata": {},
   "source": []
  },
  {
   "cell_type": "code",
   "execution_count": null,
   "id": "d0e1e5f3-dd98-421e-8a56-0c16413c317e",
   "metadata": {},
   "outputs": [],
   "source": []
  }
 ],
 "metadata": {
  "kernelspec": {
   "display_name": "Python 3 (ipykernel)",
   "language": "python",
   "name": "python3"
  },
  "language_info": {
   "codemirror_mode": {
    "name": "ipython",
    "version": 3
   },
   "file_extension": ".py",
   "mimetype": "text/x-python",
   "name": "python",
   "nbconvert_exporter": "python",
   "pygments_lexer": "ipython3",
   "version": "3.7.16"
  }
 },
 "nbformat": 4,
 "nbformat_minor": 5
}

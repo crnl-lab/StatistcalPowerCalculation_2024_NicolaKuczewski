{
 "cells": [
  {
   "cell_type": "markdown",
   "id": "1605192c-cf10-4a69-b9e7-204c8502a6e1",
   "metadata": {},
   "source": [
    "# Statistical Power Calculation\n",
    "\n",
    "This notebook is to demonstrate ....\n",
    "\n",
    "TODO nico: explication\n"
   ]
  },
  {
   "cell_type": "code",
   "execution_count": 5,
   "id": "baae59df-cd6a-4cab-a1e1-4de0f668abc5",
   "metadata": {},
   "outputs": [],
   "source": [
    "import numpy as np\n",
    "import matplotlib.pyplot as plt\n",
    "\n",
    "import ipywidgets as W\n",
    "\n",
    "from statitiscal_power_calculation import run_simulation, test_methods"
   ]
  },
  {
   "cell_type": "code",
   "execution_count": null,
   "id": "c702a267",
   "metadata": {},
   "outputs": [],
   "source": []
  },
  {
   "cell_type": "code",
   "execution_count": 12,
   "id": "0873ae3a",
   "metadata": {},
   "outputs": [
    {
     "data": {
      "application/vnd.jupyter.widget-view+json": {
       "model_id": "370f83296ddc4bfe940380ef3f51ea17",
       "version_major": 2,
       "version_minor": 0
      },
      "text/plain": [
       "VBox(children=(Dropdown(description='mode', options=('one-group', 'two-group'), value='one-group'), Dropdown(d…"
      ]
     },
     "metadata": {},
     "output_type": "display_data"
    }
   ],
   "source": [
    "# make widgets\n",
    "method_name = W.Dropdown(value='Ttest1', options=list(test_methods.keys()), ensure_option=True, description=\"Test method\")\n",
    "mode = W.Dropdown(value='one-group', options=['one-group', 'two-group'], ensure_option=True, description=\"mode\")\n",
    "num_trial = W.IntText(value=8, description=\"trial num_simulation\")\n",
    "\n",
    "success_rate_grp1 = W.FloatText(value=50., description=\"probability of succes of trained group\")\n",
    "std_grp1 = W.FloatText(value=10., description=\"standard deviation of succes  between subjects in  trained group\")\n",
    "sample_size_grp1 = W.IntText(value=4, description=\"sample size 1\")\n",
    "\n",
    "chance_level_grp1= W.FloatText(value=50., description=\"Chance level group1\")\n",
    "\n",
    "success_rate_grp2 = W.FloatText(value=30., description=\"average probability of succes of control group  or chancelevel when only 1 experimental group\")\n",
    "std_grp2 = W.FloatText(value=25., description=\"standard deviation of succes  between subjects in control group\")\n",
    "sample_size_grp2 = W.IntText(value=6, description=\"sample size 2\")\n",
    "\n",
    "alpha_risk = W.FloatText(value=0.05, description=\"Alpha risk\")\n",
    "num_iteration = W.IntText(value=5000, description=\"Number of iteration\")\n",
    "num_simulation = W.IntText(value=5, description=\"number or simulations repetition for calculate the average power and 95%CI\")\n",
    "tolerance = W.FloatText(value=0.05, description=\"tolerance error in generated sample mean and std\")\n",
    "button = W.Button(description=\"run simulation\")\n",
    "out = W.Output(layout={'border': '1px solid black'})\n",
    "\n",
    "hbox = W.VBox(children=[mode, method_name, num_trial, \n",
    "                        success_rate_grp1, std_grp1, sample_size_grp1,\n",
    "                        chance_level_grp1,\n",
    "                        success_rate_grp2,std_grp2, sample_size_grp2,\n",
    "                        alpha_risk,\n",
    "                        num_iteration,num_simulation,tolerance,\n",
    "                        button, out])\n",
    "\n",
    "@out.capture()\n",
    "def on_mode_changed(change=None):\n",
    "    \n",
    "    if mode.value == 'one-group':\n",
    "        chance_level_grp1.disabled = False\n",
    "        success_rate_grp2.disabled = True\n",
    "        std_grp2.disabled = True\n",
    "        sample_size_grp2.disabled = True\n",
    "    elif mode.value == 'two-group':\n",
    "        chance_level_grp1.disabled = True\n",
    "        success_rate_grp2.disabled = False\n",
    "        std_grp2.disabled = False\n",
    "        sample_size_grp2.disabled = False\n",
    "\n",
    "\n",
    "mode.observe(on_mode_changed)\n",
    "on_mode_changed()\n",
    "\n",
    "@out.capture()\n",
    "def on_button_run_clicked(change=None):\n",
    "    out.clear_output()\n",
    "    run_simulation(\n",
    "        mode=mode.value,\n",
    "        method_name=method_name.value,\n",
    "        \n",
    "        num_trial=num_trial.value,\n",
    "\n",
    "        success_rate_grp1=success_rate_grp1.value,\n",
    "        std_grp1=std_grp1.value,\n",
    "        sample_size_grp1=sample_size_grp1.value,\n",
    "\n",
    "        chance_level_grp1=chance_level_grp1.value,\n",
    "\n",
    "        success_rate_grp2=success_rate_grp2.value,\n",
    "        std_grp2=std_grp2.value,\n",
    "        sample_size_grp2=sample_size_grp2.value,\n",
    "        \n",
    "        alpha_risk=alpha_risk.value,\n",
    "        num_iteration=num_iteration.value,\n",
    "        num_simulation=num_simulation.value,\n",
    "        tolerance=tolerance.value,\n",
    "    )\n",
    "button.on_click(on_button_run_clicked)\n",
    "\n",
    "\n",
    "display(hbox)\n"
   ]
  },
  {
   "cell_type": "code",
   "execution_count": null,
   "id": "b3d5ea8c",
   "metadata": {},
   "outputs": [],
   "source": []
  },
  {
   "cell_type": "code",
   "execution_count": null,
   "id": "f31a6dbc",
   "metadata": {},
   "outputs": [],
   "source": []
  }
 ],
 "metadata": {
  "kernelspec": {
   "display_name": "Python 3 (ipykernel)",
   "language": "python",
   "name": "python3"
  },
  "language_info": {
   "codemirror_mode": {
    "name": "ipython",
    "version": 3
   },
   "file_extension": ".py",
   "mimetype": "text/x-python",
   "name": "python",
   "nbconvert_exporter": "python",
   "pygments_lexer": "ipython3",
   "version": "3.11.0rc1"
  }
 },
 "nbformat": 4,
 "nbformat_minor": 5
}

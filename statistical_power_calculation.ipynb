{
 "cells": [
  {
   "cell_type": "markdown",
   "id": "1605192c-cf10-4a69-b9e7-204c8502a6e1",
   "metadata": {},
   "source": [
    "# Statistical Power Calculation\n",
    "\n",
    "This notebook is to demonstrate ...."
   ]
  },
  {
   "cell_type": "code",
   "execution_count": 4,
   "id": "baae59df-cd6a-4cab-a1e1-4de0f668abc5",
   "metadata": {},
   "outputs": [],
   "source": [
    "import numpy as np\n",
    "import matplotlib.pyplot as plt\n",
    "\n",
    "import ipywidgets as W\n",
    "\n",
    "from statitiscal_power_calculation import run_simulation, test_methods"
   ]
  },
  {
   "cell_type": "code",
   "execution_count": 6,
   "id": "0873ae3a",
   "metadata": {},
   "outputs": [
    {
     "data": {
      "application/vnd.jupyter.widget-view+json": {
       "model_id": "b51d9d5ba86a4ed1b687b352751f3b68",
       "version_major": 2,
       "version_minor": 0
      },
      "text/plain": [
       "VBox(children=(Dropdown(description='Test method', index=5, options=('Ttest2', 'proportion2', 'fisher', 'Welch…"
      ]
     },
     "metadata": {},
     "output_type": "display_data"
    }
   ],
   "source": [
    "# make widgets\n",
    "method_name = W.Dropdown(value='Ttest1', options=list(test_methods.keys()), ensure_option=True, description=\"Test method\")\n",
    "trials = W.IntText(value=8, description=\"trial repetitions\")\n",
    "success_Gp1 = W.FloatText(value=50., description=\"probability of succes of trained group\")\n",
    "std1 = W.FloatText(value=10., description=\"standard deviation of succes  between subjects in  trained group\")\n",
    "success_Gp2 = W.FloatText(value=30., description=\"average probability of succes of control group  or chancelevel when only 1 experimental group\")\n",
    "std2 = W.FloatText(value=25., description=\"standard deviation of succes  between subjects in control group\")\n",
    "sample_size1 = W.IntText(value=4, description=\"sample size 1\")\n",
    "sample_size2 = W.IntText(value=6, description=\"sample size 2\")\n",
    "alpha_risk = W.FloatText(value=0.05, description=\"Alpha risk\")\n",
    "iterations = W.IntText(value=5000, description=\"Number of iteration\")\n",
    "repetitions = W.IntText(value=5, description=\"number or simulations repetition for calculate the average power and 95%CI\")\n",
    "tolerance = W.FloatText(value=0.05, description=\"tolerance error in generated sample mean and std\")\n",
    "\n",
    "out = W.Output(layout={'border': '1px solid black'})\n",
    "\n",
    "@out.capture()\n",
    "def on_button_run_clicked(change=None):\n",
    "    out.clear_output()\n",
    "    run_simulation(\n",
    "        method_name=method_name.value,\n",
    "        groups=1,\n",
    "        # tests=Ttest1, # Ttest1 (compared to the chache level),Ttest2(compare 2 groups),proportion1,proportion2,Wilcoxon1    nWhitney    ,Welch\" ,'Permutation','MannWhitney'\n",
    "        trials=trials.value,\n",
    "        success_Gp1=success_Gp1.value,\n",
    "        std1=std1.value,\n",
    "        success_Gp2=success_Gp2.value,\n",
    "        std2=std2.value,\n",
    "        sample_size1=sample_size1.value,\n",
    "        sample_size2=sample_size2.value,\n",
    "        alpha_risk=alpha_risk.value,\n",
    "        iterations=iterations.value,\n",
    "        repetitions=repetitions.value,\n",
    "        tolerance=tolerance.value,\n",
    "    )\n",
    "\n",
    "\n",
    "button = W.Button(description=\"run simulation\")\n",
    "button.on_click(on_button_run_clicked)\n",
    "\n",
    "hbox = W.VBox(children=[method_name, trials, success_Gp1, std1, success_Gp2,std2,\n",
    "                        sample_size1, sample_size2, alpha_risk,\n",
    "                        iterations,repetitions,tolerance, button, out])\n",
    "display(hbox)\n"
   ]
  },
  {
   "cell_type": "code",
   "execution_count": null,
   "id": "b3d5ea8c",
   "metadata": {},
   "outputs": [],
   "source": []
  }
 ],
 "metadata": {
  "kernelspec": {
   "display_name": "Python 3 (ipykernel)",
   "language": "python",
   "name": "python3"
  },
  "language_info": {
   "codemirror_mode": {
    "name": "ipython",
    "version": 3
   },
   "file_extension": ".py",
   "mimetype": "text/x-python",
   "name": "python",
   "nbconvert_exporter": "python",
   "pygments_lexer": "ipython3",
   "version": "3.11.0rc1"
  }
 },
 "nbformat": 4,
 "nbformat_minor": 5
}

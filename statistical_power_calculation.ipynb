{
 "cells": [
  {
   "cell_type": "markdown",
   "id": "1605192c-cf10-4a69-b9e7-204c8502a6e1",
   "metadata": {
    "tags": []
   },
   "source": [
    "### **SuccesRatePower**: statistical power calculator for bheavioural neuroscience\n",
    "\n",
    "\n",
    "This script uses a Monte Carlo simulation to calculate the statistical power of behavioral studies that evaluate  success rates. It determines how the modification of different  parameters of the illustrated bheavoural and analytical protocol affects statistical power.\n",
    "\n",
    "![Protocol](Figure.jpg)\n",
    " \n",
    "### **Parameters:**\n",
    "\n",
    "**Mode**:  \"One group\" is compared to a chance level, or \"two groups\" are compared to each other.\n",
    "\n",
    "**Test method**: Test that wil be used for statistical analysis\n",
    "\n",
    "**Number of trials**: Number of trials performed by each subject\n",
    "\n",
    "**Success rate Gr1**: Expected average success rate of group 1 (%)\n",
    "\n",
    "**Variability Gr1**: Variability in performance levels among subjects in group 1 (%)\n",
    "\n",
    "**Sample size Gr1**: Sample size of group 1\n",
    "\n",
    "**Chance level**: Probability of subjects achieving success by chance (when comparing one group to a chance level)\n",
    "\n",
    "**Success rate Gr2**: Expected average success rate of group 2 (%)\n",
    "\n",
    "**Variability Gr2**:  Variability in performance levels among subjects in group 2 (%)\n",
    "\n",
    "**Sample size Gr2**: Sample size of group 2\n",
    "\n",
    "**Alpha risk**: Alpha risk\n",
    "\n",
    "**Number of iterations**: The number of iterations in the Monte Carlo simulation. A higher number provides greater precision in the power estimation\n",
    "\n",
    "**Repetitions**: Number of Monte-Carlo simulation repetitions. Determines the average power estimation and 95% confidence interval.\n",
    "\n",
    "\n"
   ]
  },
  {
   "cell_type": "code",
   "execution_count": 7,
   "id": "baae59df-cd6a-4cab-a1e1-4de0f668abc5",
   "metadata": {
    "tags": []
   },
   "outputs": [],
   "source": [
    "import numpy as np\n",
    "import matplotlib.pyplot as plt\n",
    "\n",
    "import ipywidgets as W\n",
    "\n",
    "from statitiscal_power_calculation import run_simulation, test_methods"
   ]
  },
  {
   "cell_type": "code",
   "execution_count": 8,
   "id": "0873ae3a",
   "metadata": {},
   "outputs": [
    {
     "data": {
      "application/vnd.jupyter.widget-view+json": {
       "model_id": "6987508387d9425ebe470b55fbfa5e7b",
       "version_major": 2,
       "version_minor": 0
      },
      "text/plain": [
       "VBox(children=(Dropdown(description='Mode', options=('one-group', 'two-group'), value='one-group'), Dropdown(d…"
      ]
     },
     "metadata": {},
     "output_type": "display_data"
    }
   ],
   "source": [
    "# make widgets\n",
    "mode = W.Dropdown(value='one-group', options=['one-group', 'two-group'], ensure_option=True, description=\"Mode\")\n",
    "method_name = W.Dropdown(value='Ttest1', options=list(test_methods.keys()), ensure_option=True, description=\"Test method\")\n",
    "num_trial = W.IntText(value=8, description=\"Number of trials\")\n",
    "\n",
    "success_rate_grp1 = W.FloatText(value=50., description=\"Success rate Gr1\")\n",
    "std_grp1 = W.FloatText(value=10., description=\"Variability Gr1\")\n",
    "sample_size_grp1 = W.IntText(value=4, description=\"Sample size Gr1\")\n",
    "\n",
    "chance_level_grp1= W.FloatText(value=50., description=\"Chance level Gr1\")\n",
    "\n",
    "success_rate_grp2 = W.FloatText(value=30., description=\"Success rate Gr2\")\n",
    "std_grp2 = W.FloatText(value=25., description=\"Variability Gr2\")\n",
    "sample_size_grp2 = W.IntText(value=6, description=\"Sample size Gr1\")\n",
    "\n",
    "alpha_risk = W.FloatText(value=0.05, description=\"Alpha risk\")\n",
    "num_iteration = W.IntText(value=5000, description=\"Number of iterations\")\n",
    "num_simulation = W.IntText(value=5, description=\"Repetition\")\n",
    "tolerance = W.FloatText(value=0.05, description=\"Tolerance error in generated sample mean and std\")\n",
    "button = W.Button(description=\"run simulation\")\n",
    "out = W.Output(layout={'border': '1px solid black'})\n",
    "\n",
    "hbox = W.VBox(children=[mode, method_name, num_trial, \n",
    "                        success_rate_grp1, std_grp1, sample_size_grp1,\n",
    "                        chance_level_grp1,\n",
    "                        success_rate_grp2,std_grp2, sample_size_grp2,\n",
    "                        alpha_risk,\n",
    "                        num_iteration,num_simulation,tolerance,\n",
    "                        button, out])\n",
    "\n",
    "@out.capture()\n",
    "def on_mode_changed(change=None):\n",
    "    \n",
    "    if mode.value == 'one-group':\n",
    "        chance_level_grp1.disabled = False\n",
    "        success_rate_grp2.disabled = True\n",
    "        std_grp2.disabled = True\n",
    "        sample_size_grp2.disabled = True\n",
    "        method_name.options = ['Ttest1','proportion1']\n",
    "    \n",
    "    elif mode.value == 'two-group':\n",
    "        chance_level_grp1.disabled = True\n",
    "        success_rate_grp2.disabled = False\n",
    "        std_grp2.disabled = False\n",
    "        sample_size_grp2.disabled = False\n",
    "        method_name.options = ['Ttest2','proportion2','fisher','Welch','MannWhitney']\n",
    "\n",
    "\n",
    "mode.observe(on_mode_changed)\n",
    "on_mode_changed()\n",
    "\n",
    "@out.capture()\n",
    "def on_button_run_clicked(change=None):\n",
    "    out.clear_output()\n",
    "    run_simulation(\n",
    "        mode=mode.value,\n",
    "        method_name=method_name.value,\n",
    "        \n",
    "        num_trial=num_trial.value,\n",
    "\n",
    "        success_rate_grp1=success_rate_grp1.value,\n",
    "        std_grp1=std_grp1.value,\n",
    "        sample_size_grp1=sample_size_grp1.value,\n",
    "\n",
    "        chance_level_grp1=chance_level_grp1.value,\n",
    "\n",
    "        success_rate_grp2=success_rate_grp2.value,\n",
    "        std_grp2=std_grp2.value,\n",
    "        sample_size_grp2=sample_size_grp2.value,\n",
    "        \n",
    "        alpha_risk=alpha_risk.value,\n",
    "        num_iteration=num_iteration.value,\n",
    "        num_simulation=num_simulation.value,\n",
    "        tolerance=tolerance.value,\n",
    "    )\n",
    "button.on_click(on_button_run_clicked)\n",
    "\n",
    "display(hbox)\n"
   ]
  },
  {
   "cell_type": "code",
   "execution_count": null,
   "id": "b3d5ea8c",
   "metadata": {},
   "outputs": [],
   "source": []
  },
  {
   "cell_type": "code",
   "execution_count": null,
   "id": "f31a6dbc",
   "metadata": {},
   "outputs": [],
   "source": []
  }
 ],
 "metadata": {
  "kernelspec": {
   "display_name": "Python 3 (ipykernel)",
   "language": "python",
   "name": "python3"
  },
  "language_info": {
   "codemirror_mode": {
    "name": "ipython",
    "version": 3
   },
   "file_extension": ".py",
   "mimetype": "text/x-python",
   "name": "python",
   "nbconvert_exporter": "python",
   "pygments_lexer": "ipython3",
   "version": "3.11.0rc1"
  }
 },
 "nbformat": 4,
 "nbformat_minor": 5
}

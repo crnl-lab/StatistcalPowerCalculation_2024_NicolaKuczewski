{
 "cells": [
  {
   "cell_type": "markdown",
   "id": "1605192c-cf10-4a69-b9e7-204c8502a6e1",
   "metadata": {
    "tags": []
   },
   "source": [
    "### **SuccesRatePower**: statistical power calculator for bheavioural neuroscience\n",
    "\n",
    "\n",
    "This script uses a Monte Carlo simulation to calculate the statistical power of behavioral studies that evaluate  success rates. It determines how the modification of different  parameters of the illustrated bheavoural and analytical protocol affects statistical power.\n",
    "\n",
    "![Protocol](Figure.jpg)\n",
    " \n",
    "### **Parameters:**\n",
    "\n",
    "**Mode**:  \"One group\" is compared to a chance level, or \"two groups\" are compared to each other.\n",
    "\n",
    "**Test method**: Test that wil be used for statistical analysis\n",
    "\n",
    "**Number of trials**: Number of trials performed by each subject\n",
    "\n",
    "**Success rate Gr1**: Expected average success rate of group 1 (%)\n",
    "\n",
    "**Variability Gr1**: Variability in performance levels among subjects in group 1 (%)\n",
    "\n",
    "**Sample size Gr1**: Sample size of group 1\n",
    "\n",
    "**Chance level**: Probability of subjects achieving success by chance (when comparing one group to a chance level)\n",
    "\n",
    "**Success rate Gr2**: Expected average success rate of group 2 (%)\n",
    "\n",
    "**Variability Gr2**:  Variability in performance levels among subjects in group 2 (%)\n",
    "\n",
    "**Sample size Gr2**: Sample size of group 2\n",
    "\n",
    "**Alpha risk**: Alpha risk\n",
    "\n",
    "**Number of iterations**: The number of iterations in the Monte Carlo simulation. A higher number provides greater precision in the power estimation\n",
    "\n",
    "**Repetitions**: Number of Monte-Carlo simulation repetitions. Determines the average power estimation and 95% confidence interval.\n",
    "\n",
    "\n"
   ]
  },
  {
   "cell_type": "code",
   "execution_count": 1,
   "id": "58dbfd7c-fd1a-4587-9401-e526b45284be",
   "metadata": {},
   "outputs": [
    {
     "data": {
      "application/vnd.jupyter.widget-view+json": {
       "model_id": "a2c1163629ce4a6a91fbbd6c3d4f7deb",
       "version_major": 2,
       "version_minor": 0
      },
      "text/plain": [
       "VBox(children=(Dropdown(description='Mode', options=('one-group', 'two-group'), value='one-group'), Dropdown(d…"
      ]
     },
     "metadata": {},
     "output_type": "display_data"
    }
   ],
   "source": [
    "from widgets import show_widget\n",
    "show_widget()"
   ]
  }
 ],
 "metadata": {
  "kernelspec": {
   "display_name": "Python 3 (ipykernel)",
   "language": "python",
   "name": "python3"
  },
  "language_info": {
   "codemirror_mode": {
    "name": "ipython",
    "version": 3
   },
   "file_extension": ".py",
   "mimetype": "text/x-python",
   "name": "python",
   "nbconvert_exporter": "python",
   "pygments_lexer": "ipython3",
   "version": "3.11.0rc1"
  }
 },
 "nbformat": 4,
 "nbformat_minor": 5
}
